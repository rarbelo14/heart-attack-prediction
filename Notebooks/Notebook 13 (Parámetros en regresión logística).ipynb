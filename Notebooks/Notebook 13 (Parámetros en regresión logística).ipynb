{
 "cells": [
  {
   "cell_type": "markdown",
   "id": "aacf81c8",
   "metadata": {},
   "source": [
    "# 1. Importación de paquetes"
   ]
  },
  {
   "cell_type": "code",
   "execution_count": 1,
   "id": "adc78267",
   "metadata": {},
   "outputs": [],
   "source": [
    "# Para la lectura y transformación de datos\n",
    "import pandas as pd\n",
    "\n",
    "# Para importar modelos\n",
    "import pickle\n",
    "\n",
    "# Para calcular la significatividad de los parámetros\n",
    "import statsmodels.api as sm"
   ]
  },
  {
   "cell_type": "markdown",
   "id": "e12e7ccf",
   "metadata": {},
   "source": [
    "# 2. Lectura del dataset de entrenamiento procedente del Notebook 3"
   ]
  },
  {
   "cell_type": "code",
   "execution_count": 2,
   "id": "d9a5ebac",
   "metadata": {},
   "outputs": [],
   "source": [
    "df_train = pd.read_csv(r'../Dataset_con_transformaciones/df_train_after_notebook3.csv')"
   ]
  },
  {
   "cell_type": "code",
   "execution_count": 3,
   "id": "914b93ec",
   "metadata": {},
   "outputs": [],
   "source": [
    "X_train, y_train = df_train.drop(columns=['output']), df_train.output"
   ]
  },
  {
   "cell_type": "markdown",
   "id": "25638c86",
   "metadata": {},
   "source": [
    "# 3. Estudio de parámetros"
   ]
  },
  {
   "cell_type": "code",
   "execution_count": 4,
   "id": "9304bee5",
   "metadata": {},
   "outputs": [],
   "source": [
    "model = pickle.load(open('../Modelos/logistic_regression_model.sav', 'rb'))"
   ]
  },
  {
   "cell_type": "code",
   "execution_count": 5,
   "id": "2ba80498",
   "metadata": {},
   "outputs": [
    {
     "data": {
      "text/plain": [
       "LogisticRegression(C=1, max_iter=5000, random_state=99, solver='saga')"
      ]
     },
     "execution_count": 5,
     "metadata": {},
     "output_type": "execute_result"
    }
   ],
   "source": [
    "model"
   ]
  },
  {
   "cell_type": "markdown",
   "id": "95d2407f",
   "metadata": {},
   "source": [
    "## 3.1. Signos"
   ]
  },
  {
   "cell_type": "code",
   "execution_count": 6,
   "id": "f332bc0f",
   "metadata": {},
   "outputs": [
    {
     "data": {
      "text/html": [
       "<div>\n",
       "<style scoped>\n",
       "    .dataframe tbody tr th:only-of-type {\n",
       "        vertical-align: middle;\n",
       "    }\n",
       "\n",
       "    .dataframe tbody tr th {\n",
       "        vertical-align: top;\n",
       "    }\n",
       "\n",
       "    .dataframe thead th {\n",
       "        text-align: right;\n",
       "    }\n",
       "</style>\n",
       "<table border=\"1\" class=\"dataframe\">\n",
       "  <thead>\n",
       "    <tr style=\"text-align: right;\">\n",
       "      <th></th>\n",
       "      <th>trtbps</th>\n",
       "      <th>chol</th>\n",
       "      <th>oldpeak</th>\n",
       "      <th>sex_1</th>\n",
       "      <th>cp_0</th>\n",
       "      <th>exng_1</th>\n",
       "      <th>slp_1</th>\n",
       "      <th>caa_0.0</th>\n",
       "      <th>caa_2.0</th>\n",
       "      <th>thall_2</th>\n",
       "      <th>thall_3</th>\n",
       "      <th>Intercept</th>\n",
       "    </tr>\n",
       "  </thead>\n",
       "  <tbody>\n",
       "    <tr>\n",
       "      <th>0</th>\n",
       "      <td>-0.77469</td>\n",
       "      <td>-0.971993</td>\n",
       "      <td>-1.396525</td>\n",
       "      <td>-1.179668</td>\n",
       "      <td>-0.765978</td>\n",
       "      <td>-0.963695</td>\n",
       "      <td>-1.12867</td>\n",
       "      <td>1.396161</td>\n",
       "      <td>-0.839882</td>\n",
       "      <td>0.88802</td>\n",
       "      <td>-1.043633</td>\n",
       "      <td>2.872514</td>\n",
       "    </tr>\n",
       "  </tbody>\n",
       "</table>\n",
       "</div>"
      ],
      "text/plain": [
       "    trtbps      chol   oldpeak     sex_1      cp_0    exng_1    slp_1  \\\n",
       "0 -0.77469 -0.971993 -1.396525 -1.179668 -0.765978 -0.963695 -1.12867   \n",
       "\n",
       "    caa_0.0   caa_2.0  thall_2   thall_3  Intercept  \n",
       "0  1.396161 -0.839882  0.88802 -1.043633   2.872514  "
      ]
     },
     "execution_count": 6,
     "metadata": {},
     "output_type": "execute_result"
    }
   ],
   "source": [
    "# Obtener los parámetros del modelo\n",
    "coeficients = model.coef_\n",
    "intercept = model.intercept_\n",
    "\n",
    "param_table = pd.DataFrame(coeficients, columns=X_train.columns)\n",
    "param_table['Intercept'] = intercept\n",
    "\n",
    "param_table"
   ]
  },
  {
   "cell_type": "markdown",
   "id": "30d74d2c",
   "metadata": {},
   "source": [
    "## 3.2. Significatividad"
   ]
  },
  {
   "cell_type": "code",
   "execution_count": 7,
   "id": "edcde4fd",
   "metadata": {},
   "outputs": [
    {
     "name": "stdout",
     "output_type": "stream",
     "text": [
      "Optimization terminated successfully.\n",
      "         Current function value: 0.314789\n",
      "         Iterations 7\n"
     ]
    },
    {
     "data": {
      "text/plain": [
       "trtbps     0.868934\n",
       "chol       0.715911\n",
       "oldpeak    0.019446\n",
       "sex_1      0.137885\n",
       "cp_0       0.299459\n",
       "exng_1     0.045661\n",
       "slp_1      0.019861\n",
       "caa_0.0    0.000021\n",
       "caa_2.0    0.392586\n",
       "thall_2    0.000331\n",
       "thall_3    0.997048\n",
       "dtype: float64"
      ]
     },
     "execution_count": 7,
     "metadata": {},
     "output_type": "execute_result"
    }
   ],
   "source": [
    "model_sm = sm.Logit(y_train, X_train)\n",
    "results = model_sm.fit()\n",
    "\n",
    "summary = results.summary()\n",
    "\n",
    "p_values = results.pvalues\n",
    "p_values"
   ]
  },
  {
   "cell_type": "markdown",
   "id": "e6b569d1",
   "metadata": {},
   "source": [
    "## 3.3. ¿Cuantas observaciones de la clase minoritaria hay por parámetro de la logística?"
   ]
  },
  {
   "cell_type": "code",
   "execution_count": 8,
   "id": "2c016896",
   "metadata": {},
   "outputs": [
    {
     "data": {
      "text/plain": [
       "1    131\n",
       "0    110\n",
       "Name: output, dtype: int64"
      ]
     },
     "execution_count": 8,
     "metadata": {},
     "output_type": "execute_result"
    }
   ],
   "source": [
    "y_train.value_counts()"
   ]
  },
  {
   "cell_type": "markdown",
   "id": "8b0369d1",
   "metadata": {},
   "source": [
    "> Valor 0 como clase minoritaria"
   ]
  },
  {
   "cell_type": "code",
   "execution_count": 9,
   "id": "955e8dd7",
   "metadata": {},
   "outputs": [
    {
     "name": "stdout",
     "output_type": "stream",
     "text": [
      "Número de observaciones de la clase minoritaria por parámetro logístico: 110 / 11 = 10.0\n"
     ]
    }
   ],
   "source": [
    "print(f'Número de observaciones de la clase minoritaria por parámetro logístico: ' + \n",
    "      f'{ (y_train == 0).sum() } / { len(X_train.columns) } = { (y_train == 0).sum() / len(X_train.columns) }')"
   ]
  },
  {
   "cell_type": "code",
   "execution_count": null,
   "id": "701617fc",
   "metadata": {},
   "outputs": [],
   "source": []
  }
 ],
 "metadata": {
  "kernelspec": {
   "display_name": "Python 3",
   "language": "python",
   "name": "python3"
  },
  "language_info": {
   "codemirror_mode": {
    "name": "ipython",
    "version": 3
   },
   "file_extension": ".py",
   "mimetype": "text/x-python",
   "name": "python",
   "nbconvert_exporter": "python",
   "pygments_lexer": "ipython3",
   "version": "3.8.8"
  }
 },
 "nbformat": 4,
 "nbformat_minor": 5
}
