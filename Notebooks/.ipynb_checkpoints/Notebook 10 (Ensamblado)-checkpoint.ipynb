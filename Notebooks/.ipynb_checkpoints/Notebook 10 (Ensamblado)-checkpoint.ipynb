{
 "cells": [
  {
   "cell_type": "markdown",
   "id": "0cc2e128",
   "metadata": {},
   "source": [
    "# 1. Importación de paquetes"
   ]
  },
  {
   "cell_type": "code",
   "execution_count": 1,
   "id": "2dcb758a",
   "metadata": {},
   "outputs": [],
   "source": [
    "# Para la lectura y transformación de datos\n",
    "import pandas as pd\n",
    "\n",
    "# Para el manejo de vectores\n",
    "import numpy as np\n",
    "\n",
    "# Para la visualización de datos\n",
    "import matplotlib.pyplot as plt\n",
    "import seaborn as sns\n",
    "\n",
    "# Para importar el modelo\n",
    "from sklearn.ensemble import StackingClassifier\n",
    "from sklearn.neural_network import MLPClassifier\n",
    "from sklearn.tree import DecisionTreeClassifier\n",
    "from sklearn.svm import SVC\n",
    "from sklearn.linear_model import LogisticRegression\n",
    "\n",
    "# Para realizar validación cruzada\n",
    "from sklearn.model_selection import KFold, GridSearchCV\n",
    "\n",
    "# Para evaluar las predicciones\n",
    "from sklearn.metrics import classification_report, roc_curve, roc_auc_score\n",
    "\n",
    "# Para obtener la matriz de confusión\n",
    "from sklearn.metrics import confusion_matrix\n",
    "\n",
    "# Para guardar el modelo\n",
    "import pickle"
   ]
  },
  {
   "cell_type": "markdown",
   "id": "1731a331",
   "metadata": {},
   "source": [
    "# 2. Lectura de los datasets procedentes del Notebook 3"
   ]
  },
  {
   "cell_type": "code",
   "execution_count": 2,
   "id": "4d7ec447",
   "metadata": {},
   "outputs": [],
   "source": [
    "df_train = pd.read_csv(r'../Dataset_con_transformaciones/df_train_after_notebook3.csv')\n",
    "df_test = pd.read_csv(r'../Dataset_con_transformaciones/df_test_after_notebook3.csv')"
   ]
  },
  {
   "cell_type": "markdown",
   "id": "4a94c925",
   "metadata": {},
   "source": [
    "Dividir los conjuntos de train y test en:\n",
    "- Variables input \n",
    "- Variable objetivo"
   ]
  },
  {
   "cell_type": "code",
   "execution_count": 3,
   "id": "5862e9a5",
   "metadata": {},
   "outputs": [],
   "source": [
    "X_train, y_train = df_train.drop(columns=['output']), df_train.output\n",
    "X_test, y_test = df_test.drop(columns=['output']), df_test.output"
   ]
  },
  {
   "cell_type": "markdown",
   "id": "b4bb13d4",
   "metadata": {},
   "source": [
    "# 3. Generación del modelo \n",
    "\n",
    "Para el ensamblado, se apilarán los siguientes modelos (cuyos parámetros óptimos ya han sido calculados previamente):\n",
    "* Redes neuronales (MLPClassifier)\n",
    "* DecisionTreeClassifier\n",
    "* SVC\n",
    "\n",
    "De los modelos calculados anteriormente, BaggingClassifier, RandomForestClassifier y GradientBoostingClassifier son algoritmos de ensamblado, así que no se utilizarán como estimadores.\n",
    "\n",
    "La regresión logística se utilizará como el estimador final del ensamblado. Como en este caso se está haciendo un ensamblado manual, no es recomendable utilizar el modelo de regresión logística con los mejores parámetros calculados en el Notebook 5, ya que aquellos parámetros óptimos fueron calculados para el modelo LogisticRegression exclusivamente, sin ensamblado. Por ello, se utilizará LogisticRegression con los parámetros por defecto."
   ]
  },
  {
   "cell_type": "code",
   "execution_count": 4,
   "id": "9629acec",
   "metadata": {},
   "outputs": [],
   "source": [
    "redes_neuronales_model = pickle.load(open('../Modelos/redes_neuronales_model.sav', 'rb'))\n",
    "decision_tree_classifier_model = pickle.load(open('../Modelos/decision_tree_classifier_model.sav', 'rb'))\n",
    "support_vector_machines_model = pickle.load(open('../Modelos/support_vector_machines_model.sav', 'rb'))"
   ]
  },
  {
   "cell_type": "code",
   "execution_count": 5,
   "id": "48b54e19",
   "metadata": {},
   "outputs": [
    {
     "data": {
      "text/plain": [
       "MLPClassifier(activation='logistic', alpha=0.01, hidden_layer_sizes=(150,),\n",
       "              max_iter=5000, random_state=99)"
      ]
     },
     "execution_count": 5,
     "metadata": {},
     "output_type": "execute_result"
    }
   ],
   "source": [
    "redes_neuronales_model"
   ]
  },
  {
   "cell_type": "code",
   "execution_count": 6,
   "id": "956b1da6",
   "metadata": {},
   "outputs": [
    {
     "data": {
      "text/plain": [
       "DecisionTreeClassifier(criterion='entropy', min_samples_leaf=10,\n",
       "                       random_state=99)"
      ]
     },
     "execution_count": 6,
     "metadata": {},
     "output_type": "execute_result"
    }
   ],
   "source": [
    "decision_tree_classifier_model"
   ]
  },
  {
   "cell_type": "code",
   "execution_count": 7,
   "id": "57dd5049",
   "metadata": {},
   "outputs": [
    {
     "data": {
      "text/plain": [
       "SVC(C=1, degree=2, kernel='linear', random_state=99)"
      ]
     },
     "execution_count": 7,
     "metadata": {},
     "output_type": "execute_result"
    }
   ],
   "source": [
    "support_vector_machines_model"
   ]
  },
  {
   "cell_type": "code",
   "execution_count": 8,
   "id": "4f62c9a2",
   "metadata": {},
   "outputs": [],
   "source": [
    "# Variables\n",
    "\n",
    "model = StackingClassifier(\n",
    "    estimators=[\n",
    "        (\n",
    "            'redes_neuronales', \n",
    "             MLPClassifier(activation='logistic', alpha=0.01, hidden_layer_sizes=(150,),\n",
    "                           max_iter=5000, random_state=99)\n",
    "        ),\n",
    "        (\n",
    "            'decision_tree_classifier', \n",
    "            DecisionTreeClassifier(criterion='entropy', min_samples_leaf=10, random_state=99)\n",
    "        ),\n",
    "        (\n",
    "            'support_vector_machines', SVC(C=1, degree=2, kernel='linear', random_state=99)\n",
    "        )\n",
    "    ],\n",
    "    final_estimator=LogisticRegression(random_state=99)\n",
    ")\n",
    "\n",
    "model_file_name = \"../Modelos/stacking_model.sav\""
   ]
  },
  {
   "cell_type": "code",
   "execution_count": 9,
   "id": "0bda07cd",
   "metadata": {},
   "outputs": [],
   "source": [
    "model.fit(X_train, y_train)\n",
    "\n",
    "y_pred = model.predict(X_test)"
   ]
  },
  {
   "cell_type": "code",
   "execution_count": 10,
   "id": "c2249ff8",
   "metadata": {},
   "outputs": [
    {
     "name": "stdout",
     "output_type": "stream",
     "text": [
      "              precision    recall  f1-score   support\n",
      "\n",
      "           0       0.77      0.71      0.74        28\n",
      "           1       0.77      0.82      0.79        33\n",
      "\n",
      "    accuracy                           0.77        61\n",
      "   macro avg       0.77      0.77      0.77        61\n",
      "weighted avg       0.77      0.77      0.77        61\n",
      "\n"
     ]
    }
   ],
   "source": [
    "print(classification_report(y_test, y_pred, zero_division=1))"
   ]
  },
  {
   "cell_type": "code",
   "execution_count": 11,
   "id": "83eb1654",
   "metadata": {},
   "outputs": [
    {
     "data": {
      "image/png": "[encoded data removed]",
      "text/plain": [
       "<Figure size 1296x576 with 2 Axes>"
      ]
     },
     "metadata": {
      "needs_background": "light"
     },
     "output_type": "display_data"
    }
   ],
   "source": [
    "plt.figure(figsize=(18, 8))\n",
    "\n",
    "plt.subplot(1, 2, 1)\n",
    "fpr, tpr, tr = roc_curve(y_test, y_pred)\n",
    "auc = roc_auc_score(y_test, y_pred)\n",
    "plt.plot(fpr,tpr,'b',label=\"AUC=\"+str(auc))\n",
    "plt.plot([0,1],[0,1],'k--')\n",
    "plt.title('Curva ROC')\n",
    "plt.grid()\n",
    "plt.legend(loc='best')\n",
    "\n",
    "plt.subplot(1, 2, 2)\n",
    "cm = confusion_matrix(y_true=y_test, y_pred=y_pred)\n",
    "heatmap = sns.heatmap(cm, annot=True, fmt=\"d\", cmap=\"Blues\", cbar=False)\n",
    "plt.xlabel('Predicción')\n",
    "plt.ylabel('Valor Real')\n",
    "class_labels = ['Sin infarto', 'Infarto']\n",
    "heatmap.set_xticklabels(class_labels)\n",
    "heatmap.set_yticklabels(class_labels)\n",
    "plt.title('Matriz de Confusión')\n",
    "\n",
    "plt.show()"
   ]
  },
  {
   "cell_type": "markdown",
   "id": "670d6c79",
   "metadata": {},
   "source": [
    "# Guardar el modelo resultante de este notebook"
   ]
  },
  {
   "cell_type": "code",
   "execution_count": 12,
   "id": "6b77cca2",
   "metadata": {},
   "outputs": [],
   "source": [
    "pickle.dump(model, open(model_file_name, 'wb'))"
   ]
  },
  {
   "cell_type": "code",
   "execution_count": null,
   "id": "f972c604",
   "metadata": {},
   "outputs": [],
   "source": []
  }
 ],
 "metadata": {
  "kernelspec": {
   "display_name": "Python 3",
   "language": "python",
   "name": "python3"
  },
  "language_info": {
   "codemirror_mode": {
    "name": "ipython",
    "version": 3
   },
   "file_extension": ".py",
   "mimetype": "text/x-python",
   "name": "python",
   "nbconvert_exporter": "python",
   "pygments_lexer": "ipython3",
   "version": "3.8.8"
  }
 },
 "nbformat": 4,
 "nbformat_minor": 5
}
