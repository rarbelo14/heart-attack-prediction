{
 "cells": [
  {
   "cell_type": "markdown",
   "id": "0cc2e128",
   "metadata": {},
   "source": [
    "# 1. Importación de paquetes"
   ]
  },
  {
   "cell_type": "code",
   "execution_count": 1,
   "id": "2dcb758a",
   "metadata": {},
   "outputs": [],
   "source": [
    "# Para la lectura y transformación de datos\n",
    "import pandas as pd\n",
    "\n",
    "# Para el manejo de vectores\n",
    "import numpy as np\n",
    "\n",
    "# Para la visualización de datos\n",
    "import matplotlib.pyplot as plt\n",
    "import seaborn as sns\n",
    "\n",
    "# Para importar el modelo\n",
    "from sklearn.linear_model import LogisticRegression\n",
    "\n",
    "# Para realizar validación cruzada repetida\n",
    "from sklearn.model_selection import RepeatedKFold, GridSearchCV\n",
    "\n",
    "# Para evaluar las predicciones\n",
    "from sklearn.metrics import classification_report, roc_curve, roc_auc_score\n",
    "\n",
    "# Para obtener la matriz de confusión\n",
    "from sklearn.metrics import confusion_matrix\n",
    "\n",
    "# Para guardar el modelo\n",
    "import pickle"
   ]
  },
  {
   "cell_type": "markdown",
   "id": "1731a331",
   "metadata": {},
   "source": [
    "# 2. Lectura de los datasets procedentes del Notebook 3"
   ]
  },
  {
   "cell_type": "code",
   "execution_count": 2,
   "id": "4d7ec447",
   "metadata": {},
   "outputs": [],
   "source": [
    "df_train = pd.read_csv(r'../Dataset_con_transformaciones/df_train_after_notebook3.csv')\n",
    "df_test = pd.read_csv(r'../Dataset_con_transformaciones/df_test_after_notebook3.csv')"
   ]
  },
  {
   "cell_type": "markdown",
   "id": "4a94c925",
   "metadata": {},
   "source": [
    "Dividir los conjuntos de train y test en:\n",
    "- Variables input \n",
    "- Variable objetivo"
   ]
  },
  {
   "cell_type": "code",
   "execution_count": 3,
   "id": "5862e9a5",
   "metadata": {},
   "outputs": [],
   "source": [
    "X_train, y_train = df_train.drop(columns=['output']), df_train.output\n",
    "X_test, y_test = df_test.drop(columns=['output']), df_test.output"
   ]
  },
  {
   "cell_type": "markdown",
   "id": "b4bb13d4",
   "metadata": {},
   "source": [
    "# 3. Generación del modelo \n",
    "\n",
    "Para hacer validación cruzada repetida, usar RepeatedKFold:\n",
    "\n",
    "https://scikit-learn.org/stable/modules/generated/sklearn.model_selection.RepeatedKFold.html#sklearn.model_selection.RepeatedKFold\n",
    "\n",
    "**¿Por qué escoger RepeatedKFold para validación cruzada repetida (y no elegir RepeatedStratifiedKFold)?**\n",
    "\n",
    "Como los datos no están desbalanceados, no hace falta utilizar RepeatedStratifiedKFold. \n",
    "\n",
    "https://medium.com/@venkatasujit272/overview-of-cross-validation-3785d5414ece\n",
    "\n",
    "**¿Qué scoring escoger?**\n",
    "\n",
    "https://scikit-learn.org/stable/modules/model_evaluation.html#scoring\n",
    "\n",
    "Como se vio en el módulo \"Minería de datos y modelización predictiva - Aida Calviño\", para problemas de clasificación, la técnica del área bajo la curva ROC (AUROC) es una medida bastante acertada a la hora de evaluar este tipo de algoritmos predictivos."
   ]
  },
  {
   "cell_type": "code",
   "execution_count": 4,
   "id": "ccd3da65",
   "metadata": {},
   "outputs": [],
   "source": [
    "model = LogisticRegression(max_iter=5000, random_state=99)"
   ]
  },
  {
   "cell_type": "code",
   "execution_count": 5,
   "id": "06929ad3",
   "metadata": {},
   "outputs": [],
   "source": [
    "param_grid = {\n",
    "    'penalty': ['l1','l2'], # Tipo de regularización\n",
    "    'C': [0.001, 0.01, 0.1, 1, 10, 100],  # Parámetro de regularización\n",
    "    'solver': ['liblinear', 'saga']  # Algoritmo de optimización\n",
    "}"
   ]
  },
  {
   "cell_type": "code",
   "execution_count": 6,
   "id": "e1506b03",
   "metadata": {},
   "outputs": [],
   "source": [
    "cv = RepeatedKFold(n_splits=5, n_repeats=10, random_state=99) # Validación cruzada repetida"
   ]
  },
  {
   "cell_type": "code",
   "execution_count": 7,
   "id": "90cbdb0a",
   "metadata": {},
   "outputs": [
    {
     "data": {
      "text/plain": [
       "GridSearchCV(cv=RepeatedKFold(n_repeats=10, n_splits=5, random_state=99),\n",
       "             estimator=LogisticRegression(max_iter=5000, random_state=99),\n",
       "             param_grid={'C': [0.001, 0.01, 0.1, 1, 10, 100],\n",
       "                         'penalty': ['l1', 'l2'],\n",
       "                         'solver': ['liblinear', 'saga']},\n",
       "             scoring='roc_auc')"
      ]
     },
     "execution_count": 7,
     "metadata": {},
     "output_type": "execute_result"
    }
   ],
   "source": [
    "grid_search = GridSearchCV(estimator=model, param_grid=param_grid, cv=cv, scoring='roc_auc')\n",
    "grid_search.fit(X_train, y_train)"
   ]
  },
  {
   "cell_type": "code",
   "execution_count": 8,
   "id": "0a6a1a93",
   "metadata": {},
   "outputs": [
    {
     "name": "stdout",
     "output_type": "stream",
     "text": [
      "Mejor modelo: LogisticRegression(C=1, max_iter=5000, random_state=99, solver='saga')\n",
      "Mejores parámetros: {'C': 1, 'penalty': 'l2', 'solver': 'saga'}\n",
      "Area bajo la curva ROC: 0.9353182205886172\n"
     ]
    }
   ],
   "source": [
    "# Parámetros del mejor modelo\n",
    "print(f\"Mejor modelo: { grid_search.best_estimator_ }\")\n",
    "print(f\"Mejores parámetros: { grid_search.best_params_ }\")\n",
    "print(f\"Area bajo la curva ROC: { grid_search.best_score_ }\")"
   ]
  },
  {
   "cell_type": "markdown",
   "id": "faef4a9b",
   "metadata": {},
   "source": [
    "## 3.1. Modelo con los mejores parámetros "
   ]
  },
  {
   "cell_type": "code",
   "execution_count": 9,
   "id": "4d9dbfe2",
   "metadata": {},
   "outputs": [],
   "source": [
    "selected_model = grid_search.best_estimator_\n",
    "\n",
    "y_pred = selected_model.predict(X_test)"
   ]
  },
  {
   "cell_type": "code",
   "execution_count": 10,
   "id": "c2249ff8",
   "metadata": {},
   "outputs": [
    {
     "name": "stdout",
     "output_type": "stream",
     "text": [
      "              precision    recall  f1-score   support\n",
      "\n",
      "           0       0.80      0.71      0.75        28\n",
      "           1       0.78      0.85      0.81        33\n",
      "\n",
      "    accuracy                           0.79        61\n",
      "   macro avg       0.79      0.78      0.78        61\n",
      "weighted avg       0.79      0.79      0.79        61\n",
      "\n"
     ]
    }
   ],
   "source": [
    "print(classification_report(y_test, y_pred, zero_division=1))"
   ]
  },
  {
   "cell_type": "code",
   "execution_count": 11,
   "id": "83eb1654",
   "metadata": {},
   "outputs": [
    {
     "data": {
      "image/png": "[encoded data removed]",
      "text/plain": [
       "<Figure size 1296x576 with 2 Axes>"
      ]
     },
     "metadata": {
      "needs_background": "light"
     },
     "output_type": "display_data"
    }
   ],
   "source": [
    "plt.figure(figsize=(18, 8))\n",
    "\n",
    "plt.subplot(1, 2, 1)\n",
    "fpr, tpr, tr = roc_curve(y_test, y_pred)\n",
    "auc = roc_auc_score(y_test, y_pred)\n",
    "plt.plot(fpr,tpr,'b',label=\"AUC=\"+str(auc))\n",
    "plt.plot([0,1],[0,1],'k--')\n",
    "plt.title(\"Curva ROC\")\n",
    "plt.grid()\n",
    "plt.legend(loc='best')\n",
    "\n",
    "plt.subplot(1, 2, 2)\n",
    "cm = confusion_matrix(y_true=y_test, y_pred=y_pred)\n",
    "heatmap = sns.heatmap(cm, annot=True, fmt=\"d\", cmap=\"Blues\", cbar=False)\n",
    "plt.xlabel('Predicción')\n",
    "plt.ylabel('Valor Real')\n",
    "class_labels = ['Sin infarto', 'Infarto']\n",
    "heatmap.set_xticklabels(class_labels)\n",
    "heatmap.set_yticklabels(class_labels)\n",
    "plt.title('Matriz de Confusión')\n",
    "\n",
    "plt.show()"
   ]
  },
  {
   "cell_type": "markdown",
   "id": "670d6c79",
   "metadata": {},
   "source": [
    "# Guardar el modelo resultante de este notebook"
   ]
  },
  {
   "cell_type": "code",
   "execution_count": 12,
   "id": "6b77cca2",
   "metadata": {},
   "outputs": [],
   "source": [
    "pickle.dump(selected_model, open(\"../Modelos/logistic_regression_model.sav\", 'wb'))"
   ]
  },
  {
   "cell_type": "code",
   "execution_count": null,
   "id": "f972c604",
   "metadata": {},
   "outputs": [],
   "source": []
  }
 ],
 "metadata": {
  "kernelspec": {
   "display_name": "Python 3",
   "language": "python",
   "name": "python3"
  },
  "language_info": {
   "codemirror_mode": {
    "name": "ipython",
    "version": 3
   },
   "file_extension": ".py",
   "mimetype": "text/x-python",
   "name": "python",
   "nbconvert_exporter": "python",
   "pygments_lexer": "ipython3",
   "version": "3.8.8"
  }
 },
 "nbformat": 4,
 "nbformat_minor": 5
}
