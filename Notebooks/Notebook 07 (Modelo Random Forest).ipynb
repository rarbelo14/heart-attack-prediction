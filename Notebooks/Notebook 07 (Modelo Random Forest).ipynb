{
 "cells": [
  {
   "cell_type": "markdown",
   "id": "0cc2e128",
   "metadata": {},
   "source": [
    "# 1. Importación de paquetes"
   ]
  },
  {
   "cell_type": "code",
   "execution_count": 1,
   "id": "2dcb758a",
   "metadata": {},
   "outputs": [],
   "source": [
    "# Para la lectura y transformación de datos\n",
    "import pandas as pd\n",
    "\n",
    "# Para el manejo de vectores\n",
    "import numpy as np\n",
    "\n",
    "# Para la visualización de datos\n",
    "import matplotlib.pyplot as plt\n",
    "import seaborn as sns\n",
    "\n",
    "# Para importar el modelo\n",
    "from sklearn.ensemble import RandomForestClassifier\n",
    "\n",
    "# Para realizar validación cruzada\n",
    "from sklearn.model_selection import KFold, GridSearchCV\n",
    "\n",
    "# Para evaluar las predicciones\n",
    "from sklearn.metrics import classification_report, roc_curve, roc_auc_score\n",
    "\n",
    "# Para obtener la matriz de confusión\n",
    "from sklearn.metrics import confusion_matrix\n",
    "\n",
    "# Para guardar el modelo\n",
    "import pickle"
   ]
  },
  {
   "cell_type": "markdown",
   "id": "1731a331",
   "metadata": {},
   "source": [
    "# 2. Lectura de los datasets procedentes del Notebook 3"
   ]
  },
  {
   "cell_type": "code",
   "execution_count": 2,
   "id": "4d7ec447",
   "metadata": {},
   "outputs": [],
   "source": [
    "df_train = pd.read_csv(r'../Dataset_con_transformaciones/df_train_after_notebook3.csv')\n",
    "df_test = pd.read_csv(r'../Dataset_con_transformaciones/df_test_after_notebook3.csv')"
   ]
  },
  {
   "cell_type": "markdown",
   "id": "4a94c925",
   "metadata": {},
   "source": [
    "Dividir los conjuntos de train y test en:\n",
    "- Variables input \n",
    "- Variable objetivo"
   ]
  },
  {
   "cell_type": "code",
   "execution_count": 3,
   "id": "5862e9a5",
   "metadata": {},
   "outputs": [],
   "source": [
    "X_train, y_train = df_train.drop(columns=['output']), df_train.output\n",
    "X_test, y_test = df_test.drop(columns=['output']), df_test.output"
   ]
  },
  {
   "cell_type": "markdown",
   "id": "b4bb13d4",
   "metadata": {},
   "source": [
    "# 3. Generación del modelo "
   ]
  },
  {
   "cell_type": "code",
   "execution_count": 4,
   "id": "4f62c9a2",
   "metadata": {},
   "outputs": [],
   "source": [
    "# Variables\n",
    "\n",
    "model = RandomForestClassifier(random_state=99)\n",
    "\n",
    "param_grid = {\n",
    "    'n_estimators': [10, 50, 100, 200],  # Número de árboles\n",
    "    'criterion': ['gini', 'entropy'], # Valores posibles para el criterio de evaluación\n",
    "    'max_depth': [None, 5, 10],  # Profundidad máxima de los árboles\n",
    "    'min_samples_split': [2, 5, 10],  # Número mínimo de muestras requeridas para dividir un nodo interno\n",
    "    'min_samples_leaf': [1, 2, 4],  # Número mínimo de muestras requeridas en un nodo hoja\n",
    "    'max_features': ['sqrt', 'log2', None]  # Número de características a considerar en cada división\n",
    "}\n",
    "\n",
    "model_file_name = \"../Modelos/random_forest_model.sav\""
   ]
  },
  {
   "cell_type": "markdown",
   "id": "d2485f5e",
   "metadata": {},
   "source": [
    "Para hacer validación cruzada repetida, usar RepeatedKFold. Sin embargo, debido a limitaciones computacionales, se ha escogido hacer validación cruzada, para lo cual se usa KFold:\n",
    "\n",
    "https://scikit-learn.org/stable/modules/generated/sklearn.model_selection.KFold.html#sklearn.model_selection.KFold\n",
    "\n",
    "**¿Por qué escoger KFold para validación cruzada (y no elegir StratifiedKFold)?**\n",
    "\n",
    "Como los datos no están desbalanceados, no hace falta utilizar StratifiedKFold. \n",
    "\n",
    "https://medium.com/@venkatasujit272/overview-of-cross-validation-3785d5414ece\n",
    "\n",
    "**¿Qué scoring escoger?**\n",
    "\n",
    "https://scikit-learn.org/stable/modules/model_evaluation.html#scoring\n",
    "\n",
    "Como se vio en el módulo \"Minería de datos y modelización predictiva - Aida Calviño\", para problemas de clasificación, la técnica del área bajo la curva ROC (AUROC) es una medida bastante acertada a la hora de evaluar este tipo de algoritmos predictivos."
   ]
  },
  {
   "cell_type": "code",
   "execution_count": 5,
   "id": "e1506b03",
   "metadata": {},
   "outputs": [],
   "source": [
    "cv = KFold(n_splits=5, shuffle=True, random_state=99) # Validación cruzada"
   ]
  },
  {
   "cell_type": "code",
   "execution_count": 6,
   "id": "90cbdb0a",
   "metadata": {},
   "outputs": [
    {
     "data": {
      "text/plain": [
       "GridSearchCV(cv=KFold(n_splits=5, random_state=99, shuffle=True),\n",
       "             estimator=RandomForestClassifier(random_state=99),\n",
       "             param_grid={'criterion': ['gini', 'entropy'],\n",
       "                         'max_depth': [None, 5, 10],\n",
       "                         'max_features': ['sqrt', 'log2', None],\n",
       "                         'min_samples_leaf': [1, 2, 4],\n",
       "                         'min_samples_split': [2, 5, 10],\n",
       "                         'n_estimators': [10, 50, 100, 200]},\n",
       "             scoring='roc_auc')"
      ]
     },
     "execution_count": 6,
     "metadata": {},
     "output_type": "execute_result"
    }
   ],
   "source": [
    "grid_search = GridSearchCV(estimator=model, param_grid=param_grid, cv=cv, scoring='roc_auc')\n",
    "grid_search.fit(X_train, y_train)"
   ]
  },
  {
   "cell_type": "code",
   "execution_count": 7,
   "id": "0a6a1a93",
   "metadata": {},
   "outputs": [
    {
     "name": "stdout",
     "output_type": "stream",
     "text": [
      "Mejor modelo: RandomForestClassifier(max_depth=5, max_features='sqrt', min_samples_leaf=4,\n",
      "                       n_estimators=50, random_state=99)\n",
      "Mejores parámetros: {'criterion': 'gini', 'max_depth': 5, 'max_features': 'sqrt', 'min_samples_leaf': 4, 'min_samples_split': 2, 'n_estimators': 50}\n",
      "Area bajo la curva ROC: 0.9336336301521724\n"
     ]
    }
   ],
   "source": [
    "# Parámetros del mejor modelo\n",
    "print(f\"Mejor modelo: { grid_search.best_estimator_ }\")\n",
    "print(f\"Mejores parámetros: { grid_search.best_params_ }\")\n",
    "print(f\"Area bajo la curva ROC: { grid_search.best_score_ }\")"
   ]
  },
  {
   "cell_type": "markdown",
   "id": "faef4a9b",
   "metadata": {},
   "source": [
    "## 3.1. Modelo con los mejores parámetros "
   ]
  },
  {
   "cell_type": "code",
   "execution_count": 8,
   "id": "4d9dbfe2",
   "metadata": {},
   "outputs": [],
   "source": [
    "selected_model = grid_search.best_estimator_\n",
    "\n",
    "y_pred = selected_model.predict(X_test)"
   ]
  },
  {
   "cell_type": "code",
   "execution_count": 9,
   "id": "c2249ff8",
   "metadata": {},
   "outputs": [
    {
     "name": "stdout",
     "output_type": "stream",
     "text": [
      "              precision    recall  f1-score   support\n",
      "\n",
      "           0       0.68      0.61      0.64        28\n",
      "           1       0.69      0.76      0.72        33\n",
      "\n",
      "    accuracy                           0.69        61\n",
      "   macro avg       0.69      0.68      0.68        61\n",
      "weighted avg       0.69      0.69      0.69        61\n",
      "\n"
     ]
    }
   ],
   "source": [
    "print(classification_report(y_test, y_pred, zero_division=1))"
   ]
  },
  {
   "cell_type": "code",
   "execution_count": 10,
   "id": "83eb1654",
   "metadata": {},
   "outputs": [
    {
     "data": {
      "image/png": "[encoded data removed]",
      "text/plain": [
       "<Figure size 1296x576 with 2 Axes>"
      ]
     },
     "metadata": {
      "needs_background": "light"
     },
     "output_type": "display_data"
    }
   ],
   "source": [
    "plt.figure(figsize=(18, 8))\n",
    "\n",
    "plt.subplot(1, 2, 1)\n",
    "fpr, tpr, tr = roc_curve(y_test, y_pred)\n",
    "auc = roc_auc_score(y_test, y_pred)\n",
    "plt.plot(fpr,tpr,'b',label=\"AUC=\"+str(auc))\n",
    "plt.plot([0,1],[0,1],'k--')\n",
    "plt.title('Curva ROC')\n",
    "plt.grid()\n",
    "plt.legend(loc='best')\n",
    "\n",
    "plt.subplot(1, 2, 2)\n",
    "cm = confusion_matrix(y_true=y_test, y_pred=y_pred)\n",
    "heatmap = sns.heatmap(cm, annot=True, fmt=\"d\", cmap=\"Blues\", cbar=False)\n",
    "plt.xlabel('Predicción')\n",
    "plt.ylabel('Valor Real')\n",
    "class_labels = ['Sin infarto', 'Infarto']\n",
    "heatmap.set_xticklabels(class_labels)\n",
    "heatmap.set_yticklabels(class_labels)\n",
    "plt.title('Matriz de Confusión')\n",
    "\n",
    "plt.show()"
   ]
  },
  {
   "cell_type": "markdown",
   "id": "670d6c79",
   "metadata": {},
   "source": [
    "# Guardar el modelo resultante de este notebook"
   ]
  },
  {
   "cell_type": "code",
   "execution_count": 11,
   "id": "6b77cca2",
   "metadata": {},
   "outputs": [],
   "source": [
    "pickle.dump(selected_model, open(model_file_name, 'wb'))"
   ]
  },
  {
   "cell_type": "code",
   "execution_count": null,
   "id": "f972c604",
   "metadata": {},
   "outputs": [],
   "source": []
  }
 ],
 "metadata": {
  "kernelspec": {
   "display_name": "Python 3",
   "language": "python",
   "name": "python3"
  },
  "language_info": {
   "codemirror_mode": {
    "name": "ipython",
    "version": 3
   },
   "file_extension": ".py",
   "mimetype": "text/x-python",
   "name": "python",
   "nbconvert_exporter": "python",
   "pygments_lexer": "ipython3",
   "version": "3.8.8"
  }
 },
 "nbformat": 4,
 "nbformat_minor": 5
}
